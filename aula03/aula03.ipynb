{
 "cells": [
  {
   "cell_type": "code",
   "execution_count": 1,
   "metadata": {},
   "outputs": [
    {
     "name": "stdout",
     "output_type": "stream",
     "text": [
      "Hello to the Word 123\n"
     ]
    }
   ],
   "source": [
    "var1= 123\n",
    "var2='Word'\n",
    "print(\"Hello to the\", var2, var1)"
   ]
  },
  {
   "cell_type": "code",
   "execution_count": 2,
   "metadata": {},
   "outputs": [
    {
     "name": "stdout",
     "output_type": "stream",
     "text": [
      "Hello to the Word 123 \n"
     ]
    }
   ],
   "source": [
    "var1= 123\n",
    "var2='Word'\n",
    "print(\"Hello to the %s %d \" % (var2, var1))"
   ]
  },
  {
   "cell_type": "markdown",
   "metadata": {},
   "source": [
    "%s --> string\n",
    "%d --> int \n",
    "%f --> float"
   ]
  },
  {
   "cell_type": "markdown",
   "metadata": {},
   "source": [
    "Exercício 1: Média do Aluno"
   ]
  },
  {
   "cell_type": "code",
   "execution_count": 17,
   "metadata": {},
   "outputs": [
    {
     "name": "stdout",
     "output_type": "stream",
     "text": [
      "Essa é a média do aluno: 6\n",
      "Aprovado\n"
     ]
    }
   ],
   "source": [
    "p1= float(input('Entre com a nota da P1: '))\n",
    "p2= float(input('Entre com a nota da P2: '))\n",
    "p3= float(input('Entre com a nota da P3: '))\n",
    "soma=p1+p2+p3\n",
    "media= soma/3\n",
    "media_arred= round(media, 2)\n",
    "print(\"Essa é a média do aluno: %d\" %(media_arred))\n",
    "if media_arred > 5:\n",
    "    print('Aprovado')\n",
    "else:\n",
    "    print('Reprovado')\n",
    "    "
   ]
  },
  {
   "cell_type": "markdown",
   "metadata": {},
   "source": [
    "Exercício 2: Hipotenusa do triângulo \n",
    "Primeira forma"
   ]
  },
  {
   "cell_type": "code",
   "execution_count": 8,
   "metadata": {},
   "outputs": [
    {
     "name": "stdout",
     "output_type": "stream",
     "text": [
      "A hipotenusa do triângulo retângulo é: 5.0\n"
     ]
    }
   ],
   "source": [
    "a=4\n",
    "b=3\n",
    "hipotenusa = (a**2 + b**2)**0.5\n",
    "print(\"A hipotenusa do triângulo retângulo é:\", hipotenusa)"
   ]
  },
  {
   "cell_type": "markdown",
   "metadata": {},
   "source": [
    "Segunda forma"
   ]
  },
  {
   "cell_type": "code",
   "execution_count": 7,
   "metadata": {},
   "outputs": [
    {
     "name": "stdout",
     "output_type": "stream",
     "text": [
      "A hipotenusa do triângulo retângulo é: 5.0\n"
     ]
    }
   ],
   "source": [
    "import math\n",
    "a=4\n",
    "b=3\n",
    "hipotenusa = math.sqrt(a**2 + b**2)\n",
    "print(\"A hipotenusa do triângulo retângulo é:\", hipotenusa)"
   ]
  },
  {
   "cell_type": "markdown",
   "metadata": {},
   "source": [
    "Exercício 3: Salário"
   ]
  },
  {
   "cell_type": "code",
   "execution_count": 19,
   "metadata": {},
   "outputs": [
    {
     "name": "stdout",
     "output_type": "stream",
     "text": [
      "Seu salário atual é de 1500.98\n",
      "Seu aumento será de  120.08\n",
      "Seu novo salário é de 1621.06\n"
     ]
    }
   ],
   "source": [
    "salarioAtual = float(input('Qual o valor do seu salário atual? '))\n",
    "\n",
    "\n",
    "pAumento = int(input('Qual a porcentagem de aumento?'))/100 \n",
    "\n",
    "somaSalarial = salarioAtual * pAumento\n",
    "somaSalarial_arred = round(somaSalarial, 2)\n",
    "\n",
    "novoSalario = salarioAtual + somaSalarial\n",
    "novoSalario_arred = round(novoSalario, 2)\n",
    "\n",
    "print(\"Seu salário atual é de\", salarioAtual)\n",
    "print(\"Seu aumento será de\", somaSalarial_arred)\n",
    "print(\"Seu novo salário é de\", novoSalario_arred)\n",
    "\n"
   ]
  },
  {
   "cell_type": "markdown",
   "metadata": {},
   "source": [
    "Exercício 4: Costante"
   ]
  },
  {
   "cell_type": "code",
   "execution_count": null,
   "metadata": {},
   "outputs": [],
   "source": [
    "pi = 3.1415\n",
    "r = float(input('Qual o valor do raio'))\n",
    "h = float(input('Qual o valor da altura?'))\n",
    "\n",
    "volume = pi * (r*r) * h\n",
    "print(\"O volume da lata de óleo é: \", volume)"
   ]
  }
 ],
 "metadata": {
  "interpreter": {
   "hash": "9f99128525e34b43f3e7878806927c5c780b18daaab0ddce357984e3321df7a8"
  },
  "kernelspec": {
   "display_name": "Python 3.10.6 64-bit",
   "language": "python",
   "name": "python3"
  },
  "language_info": {
   "codemirror_mode": {
    "name": "ipython",
    "version": 3
   },
   "file_extension": ".py",
   "mimetype": "text/x-python",
   "name": "python",
   "nbconvert_exporter": "python",
   "pygments_lexer": "ipython3",
   "version": "3.10.6"
  },
  "orig_nbformat": 4
 },
 "nbformat": 4,
 "nbformat_minor": 2
}
