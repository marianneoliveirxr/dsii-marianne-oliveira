{
 "cells": [
  {
   "cell_type": "code",
   "execution_count": 1,
   "metadata": {},
   "outputs": [
    {
     "name": "stdout",
     "output_type": "stream",
     "text": [
      "Aprovado!!\n"
     ]
    }
   ],
   "source": [
    "media= float(input(\"Informe a Média: \"))\n",
    "if media >= 50:\n",
    "    print(\"Aprovado!!\")\n",
    "elif media >= 49 and media <=49.9:\n",
    "    print(\"Conselho\")\n",
    "else:\n",
    "    print(\"Reprovado\")"
   ]
  },
  {
   "cell_type": "code",
   "execution_count": 5,
   "metadata": {},
   "outputs": [
    {
     "name": "stdout",
     "output_type": "stream",
     "text": [
      "Aprovado!!\n"
     ]
    }
   ],
   "source": [
    "nota= float(input(\"Informe a Nota: \"))\n",
    "freq= float(input(\"Informe a frequência: \"))\n",
    "if nota >= 7 and freq >70:\n",
    "    print(\"Aprovado!!\")\n",
    "elif nota >=7 or freq >70:\n",
    "    print(\"Aprovado!!\")\n",
    "else:\n",
    "    print(\"Reprovado\")\n",
    "\n"
   ]
  },
  {
   "cell_type": "markdown",
   "metadata": {},
   "source": [
    "Exercícios"
   ]
  },
  {
   "cell_type": "markdown",
   "metadata": {},
   "source": [
    "Placar jogo de futebol "
   ]
  },
  {
   "cell_type": "code",
   "execution_count": 8,
   "metadata": {},
   "outputs": [
    {
     "name": "stdout",
     "output_type": "stream",
     "text": [
      "Empate\n"
     ]
    }
   ],
   "source": [
    "corinthians= float(input(\"Informe os gols do corinthians: \"))\n",
    "palmeiras= float(input(\"Informe os gols do palmeiras: \"))\n",
    "if corinthians > palmeiras:\n",
    "    print(\"Timão venceu!!\")\n",
    "elif palmeiras > corinthians:\n",
    "    print(\"Verdão venceu!!\")\n",
    "else:\n",
    "    print(\"Empate\")"
   ]
  },
  {
   "cell_type": "markdown",
   "metadata": {},
   "source": [
    "Compra e prestações"
   ]
  },
  {
   "cell_type": "code",
   "execution_count": 9,
   "metadata": {},
   "outputs": [
    {
     "name": "stdout",
     "output_type": "stream",
     "text": [
      "O valor de cada prestação será de  1400.0 reais\n"
     ]
    }
   ],
   "source": [
    "valor= float(input(\"Informe o valor da compra: \"))\n",
    "prest= float(input(\"Informe o número de prestações: \"))\n",
    "prestacao=valor/prest\n",
    "print(\"O valor de cada prestação será de \", prestacao, \"reais\")"
   ]
  },
  {
   "cell_type": "markdown",
   "metadata": {},
   "source": [
    "Classificação do nadador em categorias"
   ]
  },
  {
   "cell_type": "code",
   "execution_count": 22,
   "metadata": {},
   "outputs": [
    {
     "name": "stdout",
     "output_type": "stream",
     "text": [
      "Você pertence a categoria Infantil B\n"
     ]
    }
   ],
   "source": [
    "idade= float(input(\"Informe a idade do nadador: \"))\n",
    "if idade > 5 and idade<=7:\n",
    "    print(\"Você pertence a categoria Infantil A\")\n",
    "elif idade >=8 and idade<= 11:\n",
    "    print(\"Você pertence a categoria Infantil B\")\n",
    "elif idade>=12 and idade<=13:\n",
    "    print(\"Você pertence a categoria Juvenil A\")\n",
    "elif idade>=14 and idade<=17:\n",
    "    print(\"Você pertence a categoria Juvenil B\")\n",
    "else:\n",
    "    print(\"Adultos\")"
   ]
  },
  {
   "cell_type": "markdown",
   "metadata": {},
   "source": [
    "Quatro operações com decimais"
   ]
  },
  {
   "cell_type": "code",
   "execution_count": 25,
   "metadata": {},
   "outputs": [
    {
     "name": "stdout",
     "output_type": "stream",
     "text": [
      "O resultado da soma é  6.36\n",
      "O resultado da subtração é  4.08\n",
      "O resultado da multiplicação é  5.95\n",
      "O resultado da divisão é  4.58\n"
     ]
    }
   ],
   "source": [
    "n1= float(input(\"Informe o primeiro número: \"))\n",
    "n2= float(input(\"Informe o segundo número: \"))\n",
    "\n",
    "soma = n1+n2\n",
    "somaA= round(soma, 2)\n",
    "sub = n1-n2\n",
    "subA= round(sub, 2)\n",
    "mult= n1*n2\n",
    "multA= round(mult, 2)\n",
    "div = n1/n2\n",
    "divA= round(div, 2)\n",
    "\n",
    "print(\"O resultado da soma é \", somaA)\n",
    "print(\"O resultado da subtração é \", subA)\n",
    "print(\"O resultado da multiplicação é \", multA)\n",
    "print(\"O resultado da divisão é \", divA)"
   ]
  }
 ],
 "metadata": {
  "kernelspec": {
   "display_name": "Python 3.8.9 64-bit",
   "language": "python",
   "name": "python3"
  },
  "language_info": {
   "codemirror_mode": {
    "name": "ipython",
    "version": 3
   },
   "file_extension": ".py",
   "mimetype": "text/x-python",
   "name": "python",
   "nbconvert_exporter": "python",
   "pygments_lexer": "ipython3",
   "version": "3.8.9"
  },
  "orig_nbformat": 4,
  "vscode": {
   "interpreter": {
    "hash": "f1bbcb058e788729700f39b3c3ff25556fde976698c68761cdb49ce1fc5c4371"
   }
  }
 },
 "nbformat": 4,
 "nbformat_minor": 2
}
