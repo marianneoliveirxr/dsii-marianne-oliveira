{
 "cells": [
  {
   "cell_type": "markdown",
   "metadata": {},
   "source": [
    "Árvore"
   ]
  },
  {
   "cell_type": "code",
   "execution_count": null,
   "metadata": {},
   "outputs": [],
   "source": [
    "print(\"    *\")\n",
    "print(\"   ***\")\n",
    "print(\"  *****\")\n",
    "print(\" *******\")\n",
    "print(\"*********\")\n",
    "print(\"   | |\")"
   ]
  },
  {
   "cell_type": "markdown",
   "metadata": {},
   "source": [
    "Quadrado do Valor"
   ]
  },
  {
   "cell_type": "code",
   "execution_count": null,
   "metadata": {},
   "outputs": [],
   "source": [
    "a= int(input('Digite um valor: '))\n",
    "quadrado = a*a\n",
    "print(quadrado)"
   ]
  },
  {
   "cell_type": "markdown",
   "metadata": {},
   "source": [
    "Caractere"
   ]
  },
  {
   "cell_type": "code",
   "execution_count": null,
   "metadata": {},
   "outputs": [],
   "source": [
    "a= (input('Digite o primeiro caractere: '))\n",
    "b = (input('Digite o segundo caractere: '))\n",
    "print('Você digitou ' + a + \" e \" + b)"
   ]
  },
  {
   "cell_type": "markdown",
   "metadata": {},
   "source": [
    "Antecessor e Sucessor"
   ]
  },
  {
   "cell_type": "code",
   "execution_count": null,
   "metadata": {},
   "outputs": [],
   "source": [
    "a= int(input('Digite um valor: '))\n",
    "b = a-1\n",
    "c = a+1\n",
    "print('Você digitou: ', a, ', Antecessor = ', b, ', Sucessor = ', c)"
   ]
  },
  {
   "cell_type": "markdown",
   "metadata": {},
   "source": [
    "Área e Perímetro do Retângulo"
   ]
  },
  {
   "cell_type": "code",
   "execution_count": null,
   "metadata": {},
   "outputs": [],
   "source": [
    "b= int(input('Entre com o valor da base: '))\n",
    "h = int(input('Entre com o valor da altura: '))\n",
    "perimetro= 2*b + 2+h\n",
    "area= b*h\n",
    "\n",
    "print('Base = ', b, 'Altura = ', h, 'Perímetro = ', perimetro, 'Área = ', area)"
   ]
  },
  {
   "cell_type": "markdown",
   "metadata": {},
   "source": [
    "Prestação"
   ]
  },
  {
   "cell_type": "code",
   "execution_count": null,
   "metadata": {},
   "outputs": [],
   "source": [
    "v= int(input('Entre com o valor: '))\n",
    "taxa= int(input('Entre com o valor da taxa: '))\n",
    "tempo= int(input('Quanto tempo? (dias) '))\n",
    "\n",
    "prestacao= v+(v*(taxa/100)*tempo)\n",
    "print(prestacao)\n"
   ]
  }
 ],
 "metadata": {
  "language_info": {
   "name": "python"
  },
  "orig_nbformat": 4
 },
 "nbformat": 4,
 "nbformat_minor": 2
}
